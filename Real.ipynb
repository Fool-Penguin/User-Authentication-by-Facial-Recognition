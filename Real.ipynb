{
 "cells": [
  {
   "cell_type": "code",
   "execution_count": 1,
   "id": "bfe356a3",
   "metadata": {},
   "outputs": [],
   "source": [
    "# from roboflow import Roboflow\n",
    "# rf = Roboflow(api_key=\"T7uEFXRKxnlKwmjBGbBD\")\n",
    "# project = rf.workspace(\"kolzek\").project(\"face-anti-spoofing-ezpqo\")\n",
    "# version = project.version(4)\n",
    "# dataset = version.download(\"yolov11\")\n",
    "                "
   ]
  },
  {
   "cell_type": "code",
   "execution_count": 2,
   "id": "2bff5645",
   "metadata": {},
   "outputs": [
    {
     "data": {
      "text/plain": [
       "True"
      ]
     },
     "execution_count": 2,
     "metadata": {},
     "output_type": "execute_result"
    }
   ],
   "source": [
    "import torch\n",
    "torch.cuda.is_available()"
   ]
  },
  {
   "cell_type": "code",
   "execution_count": 8,
   "id": "bb9e3189",
   "metadata": {},
   "outputs": [
    {
     "name": "stdout",
     "output_type": "stream",
     "text": [
      "WARNING Environment does not support cv2.imshow() or PIL Image.show()\n",
      "OpenCV(4.10.0) D:\\a\\opencv-python\\opencv-python\\opencv\\modules\\highgui\\src\\window.cpp:1301: error: (-2:Unspecified error) The function is not implemented. Rebuild the library with Windows, GTK+ 2.x or Cocoa support. If you are on Ubuntu or Debian, install libgtk2.0-dev and pkg-config, then re-run cmake or configure script in function 'cvShowImage'\n",
      "\n",
      "\n",
      "image 1/1 c:\\Users\\gifly\\Desktop\\Playground\\User-Authentication-by-Facial-Recognition\\Test.jpg: 192x320 1 fake, 42.1ms\n",
      "Speed: 2.5ms preprocess, 42.1ms inference, 2.5ms postprocess per image at shape (1, 3, 192, 320)\n",
      "Results saved to \u001b[1mC:\\Users\\gifly\\Desktop\\Playground\\User-Authentication-by-Facial-Recognition\\runs\\detect\\predict\u001b[0m\n"
     ]
    }
   ],
   "source": [
    "# yolo_opencv_face_detect.py\n",
    "# Requires: pip install ultralytics opencv-python\n",
    "# Replace 'yolov8n-face.pt' with the path to your face-specific YOLO weights.\n",
    "from ultralytics import YOLO\n",
    "import cv2\n",
    "import numpy as np\n",
    "\n",
    "# Load YOLO model (use a face-detection weight; change path if needed)\n",
    "# model = YOLO('yolov11n-face.pt')\n",
    "\n",
    "# model = model.train(data=\"Face-Anti-Spoofing-4/data.yaml\",epochs=50,batch=16,imgsz=320,device=0,lr0=0.003,patience=10)  # Set model to training mode\n",
    "model = YOLO(\"runs/detect/train5/weights/best.pt\")\n",
    "result = model.predict(\"Test.jpg\", show=True,save=True)  # Inference on an image file"
   ]
  },
  {
   "cell_type": "code",
   "execution_count": 5,
   "id": "23bdedf3",
   "metadata": {},
   "outputs": [
    {
     "name": "stdout",
     "output_type": "stream",
     "text": [
      "\n",
      "0: 256x320 (no detections), 10.9ms\n",
      "Speed: 1.7ms preprocess, 10.9ms inference, 0.9ms postprocess per image at shape (1, 3, 256, 320)\n"
     ]
    },
    {
     "ename": "error",
     "evalue": "OpenCV(4.10.0) D:\\a\\opencv-python\\opencv-python\\opencv\\modules\\highgui\\src\\window.cpp:1295: error: (-2:Unspecified error) The function is not implemented. Rebuild the library with Windows, GTK+ 2.x or Cocoa support. If you are on Ubuntu or Debian, install libgtk2.0-dev and pkg-config, then re-run cmake or configure script in function 'cvDestroyAllWindows'\n",
     "output_type": "error",
     "traceback": [
      "\u001b[31m---------------------------------------------------------------------------\u001b[39m",
      "\u001b[31merror\u001b[39m                                     Traceback (most recent call last)",
      "\u001b[36mCell\u001b[39m\u001b[36m \u001b[39m\u001b[32mIn[5]\u001b[39m\u001b[32m, line 32\u001b[39m\n\u001b[32m     31\u001b[39m \u001b[38;5;66;03m# Show frame\u001b[39;00m\n\u001b[32m---> \u001b[39m\u001b[32m32\u001b[39m \u001b[43mcv2\u001b[49m\u001b[43m.\u001b[49m\u001b[43mimshow\u001b[49m\u001b[43m(\u001b[49m\u001b[33;43m\"\u001b[39;49m\u001b[33;43mYOLO Face Detection\u001b[39;49m\u001b[33;43m\"\u001b[39;49m\u001b[43m,\u001b[49m\u001b[43m \u001b[49m\u001b[43mframe\u001b[49m\u001b[43m)\u001b[49m\n\u001b[32m     34\u001b[39m \u001b[38;5;66;03m# Quit on 'q'\u001b[39;00m\n",
      "\u001b[36mFile \u001b[39m\u001b[32mc:\\Users\\gifly\\Desktop\\Playground\\User-Authentication-by-Facial-Recognition\\.venv\\Lib\\site-packages\\ultralytics\\utils\\patches.py:91\u001b[39m, in \u001b[36mimshow\u001b[39m\u001b[34m(winname, mat)\u001b[39m\n\u001b[32m     74\u001b[39m \u001b[38;5;250m\u001b[39m\u001b[33;03m\"\"\"\u001b[39;00m\n\u001b[32m     75\u001b[39m \u001b[33;03mDisplay an image in the specified window with multilanguage window name support.\u001b[39;00m\n\u001b[32m     76\u001b[39m \n\u001b[32m   (...)\u001b[39m\u001b[32m     89\u001b[39m \u001b[33;03m    >>> imshow(\"Example Window\", img)  # Display the image\u001b[39;00m\n\u001b[32m     90\u001b[39m \u001b[33;03m\"\"\"\u001b[39;00m\n\u001b[32m---> \u001b[39m\u001b[32m91\u001b[39m \u001b[43m_imshow\u001b[49m\u001b[43m(\u001b[49m\u001b[43mwinname\u001b[49m\u001b[43m.\u001b[49m\u001b[43mencode\u001b[49m\u001b[43m(\u001b[49m\u001b[33;43m\"\u001b[39;49m\u001b[33;43municode_escape\u001b[39;49m\u001b[33;43m\"\u001b[39;49m\u001b[43m)\u001b[49m\u001b[43m.\u001b[49m\u001b[43mdecode\u001b[49m\u001b[43m(\u001b[49m\u001b[43m)\u001b[49m\u001b[43m,\u001b[49m\u001b[43m \u001b[49m\u001b[43mmat\u001b[49m\u001b[43m)\u001b[49m\n",
      "\u001b[31merror\u001b[39m: OpenCV(4.10.0) D:\\a\\opencv-python\\opencv-python\\opencv\\modules\\highgui\\src\\window.cpp:1301: error: (-2:Unspecified error) The function is not implemented. Rebuild the library with Windows, GTK+ 2.x or Cocoa support. If you are on Ubuntu or Debian, install libgtk2.0-dev and pkg-config, then re-run cmake or configure script in function 'cvShowImage'\n",
      "\nDuring handling of the above exception, another exception occurred:\n",
      "\u001b[31merror\u001b[39m                                     Traceback (most recent call last)",
      "\u001b[36mCell\u001b[39m\u001b[36m \u001b[39m\u001b[32mIn[5]\u001b[39m\u001b[32m, line 39\u001b[39m\n\u001b[32m     37\u001b[39m \u001b[38;5;28;01mfinally\u001b[39;00m:\n\u001b[32m     38\u001b[39m     cap.release()\n\u001b[32m---> \u001b[39m\u001b[32m39\u001b[39m     \u001b[43mcv2\u001b[49m\u001b[43m.\u001b[49m\u001b[43mdestroyAllWindows\u001b[49m\u001b[43m(\u001b[49m\u001b[43m)\u001b[49m\n",
      "\u001b[31merror\u001b[39m: OpenCV(4.10.0) D:\\a\\opencv-python\\opencv-python\\opencv\\modules\\highgui\\src\\window.cpp:1295: error: (-2:Unspecified error) The function is not implemented. Rebuild the library with Windows, GTK+ 2.x or Cocoa support. If you are on Ubuntu or Debian, install libgtk2.0-dev and pkg-config, then re-run cmake or configure script in function 'cvDestroyAllWindows'\n"
     ]
    }
   ],
   "source": [
    "# Open default camera\n",
    "cap = cv2.VideoCapture(0)\n",
    "if not cap.isOpened():\n",
    "    raise SystemExit(\"Cannot open camera\")\n",
    "\n",
    "try:\n",
    "    while True:\n",
    "        ret, frame = cap.read()\n",
    "        if not ret:\n",
    "            break\n",
    "\n",
    "        # Run model on the BGR frame (Ultralytics accepts numpy arrays)\n",
    "        results = model(frame)[0]  # results is a single Result object\n",
    "\n",
    "        # Extract boxes, confidences, classes\n",
    "        if results.boxes:\n",
    "            xyxy = results.boxes.xyxy.cpu().numpy()    # shape (N,4)\n",
    "            confs = results.boxes.conf.cpu().numpy()   # shape (N,)\n",
    "            clss = results.boxes.cls.cpu().numpy()     # shape (N,)\n",
    "            names = results.names                       # dict/list of class names\n",
    "\n",
    "            for (x1, y1, x2, y2), conf, cls in zip(xyxy, confs, clss):\n",
    "                x1, y1, x2, y2 = int(x1), int(y1), int(x2), int(y2)\n",
    "                label = names[int(cls)] if int(cls) in names else str(int(cls))\n",
    "                text = f\"{label} {conf:.2f}\"\n",
    "                # Draw box and label\n",
    "                # cv2.rectangle(frame, (x1-50, y1-50), (x2+50, y2+50), (0, 255, 0), 3)\n",
    "                cv2.rectangle(frame, (x1, y1), (x2, y2), (0, 255, 0), 3)\n",
    "                cv2.putText(frame, text, (x1, y1 - 6), cv2.FONT_HERSHEY_SIMPLEX, 0.5, (0, 255, 0), 1)\n",
    "\n",
    "        # Show frame\n",
    "        cv2.imshow(\"YOLO Face Detection\", frame)\n",
    "\n",
    "        # Quit on 'q'\n",
    "        if cv2.waitKey(1) & 0xFF == ord('q'):\n",
    "            break\n",
    "finally:\n",
    "    cap.release()\n",
    "    cv2.destroyAllWindows()"
   ]
  }
 ],
 "metadata": {
  "kernelspec": {
   "display_name": ".venv",
   "language": "python",
   "name": "python3"
  },
  "language_info": {
   "codemirror_mode": {
    "name": "ipython",
    "version": 3
   },
   "file_extension": ".py",
   "mimetype": "text/x-python",
   "name": "python",
   "nbconvert_exporter": "python",
   "pygments_lexer": "ipython3",
   "version": "3.13.7"
  }
 },
 "nbformat": 4,
 "nbformat_minor": 5
}
